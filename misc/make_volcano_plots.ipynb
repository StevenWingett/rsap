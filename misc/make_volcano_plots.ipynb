{
 "cells": [
  {
   "cell_type": "code",
   "execution_count": null,
   "id": "6211493e-552b-43c9-bbe3-0c1aee17c321",
   "metadata": {},
   "outputs": [],
   "source": [
    "import pandas as pd\n",
    "import numpy as np\n",
    "from matplotlib import pyplot as plt\n",
    "import seaborn as sns\n",
    "import os\n",
    "import math\n",
    "\n",
    "from scipy.cluster.hierarchy import linkage, dendrogram, fcluster\n",
    "from scipy.spatial.distance import squareform\n",
    "\n",
    "import plotly.express as px\n",
    "from sklearn.decomposition import PCA"
   ]
  },
  {
   "cell_type": "code",
   "execution_count": null,
   "id": "fc6682dc-8b06-4679-be40-680fad2444ac",
   "metadata": {},
   "outputs": [],
   "source": [
    "# Setup\n",
    "sns.set_style(\"whitegrid\")\n",
    "\n",
    "abs_l2fc_threshold = np.log2(1.5)\n",
    "padj_threshold = 0.05\n",
    "outdir = 'volcano_plot_results'\n",
    "image_formats = ('png', 'svg', 'eps')\n",
    "\n",
    "gene_lookup_file = '../rsap_results/expression_data_pipeline_format/gene_id_gene_name_lookup_table.tsv.gz'\n",
    "\n",
    "deseq_data_file = '../rsap_results/deseq2/comparison2__COMPETENCE2_Sex__Not_competent_vs_Competent/Comparison_Competent_vs_Not_competent/Comparison_Competent_vs_Not_competent.deseq2_results.tsv'    \n",
    "#deseq_data_file = '../rsap_results/deseq2/comparison3__TREATED_Cell_line__Not_treated_vs_Treated/Comparison_Treated_vs_Not_treated/Comparison_Treated_vs_Not_treated.deseq2_results.tsv'"
   ]
  },
  {
   "cell_type": "code",
   "execution_count": null,
   "id": "b603eed5-58d4-41b5-a3f5-724135f4fd06",
   "metadata": {},
   "outputs": [],
   "source": [
    "print(f'Reading in DESeq2 data file: {deseq_data_file}')\n",
    "deseq_data= pd.read_csv(deseq_data_file, sep='\\t')\n",
    "print(f'{deseq_data.shape[0]} genes reported')\n",
    "\n",
    "if gene_lookup_file is not None:\n",
    "    print(f'Reading in gene lookups file: {gene_lookup_file}')\n",
    "    gene_lookups = pd.read_csv(gene_lookup_file, sep='\\t')\n",
    "    print(f'{gene_lookups.shape[0]} gene lookups reported')\n"
   ]
  },
  {
   "cell_type": "code",
   "execution_count": null,
   "id": "00deaf29-53ca-4ecf-b600-da2049b10854",
   "metadata": {},
   "outputs": [],
   "source": [
    "#Format\n",
    "deseq_data['minus_log10(padj)'] = -np.log10(deseq_data['padj'])"
   ]
  },
  {
   "cell_type": "code",
   "execution_count": null,
   "id": "f6c205bc-fb6e-42b0-8b96-5ad215407d3d",
   "metadata": {},
   "outputs": [],
   "source": [
    "deseq_data.head(2)"
   ]
  },
  {
   "cell_type": "code",
   "execution_count": null,
   "id": "96740708-cefa-485c-946d-c45909829b6f",
   "metadata": {},
   "outputs": [],
   "source": [
    "volcano_data = deseq_data.loc[:, ['region', 'log2FoldChange', 'minus_log10(padj)']]\n",
    "\n",
    "# Remove entries containing NA\n",
    "print(f'{volcano_data.shape[0]} genes BEFORE filter for NA')\n",
    "filt = ~ volcano_data.isna().any(axis=1)\n",
    "volcano_data = volcano_data[filt]\n",
    "print(f'{volcano_data.shape[0]} genes AFTER filtering for NA')"
   ]
  },
  {
   "cell_type": "code",
   "execution_count": null,
   "id": "bbf19941-e4c1-4741-bc6a-63042d46935e",
   "metadata": {},
   "outputs": [],
   "source": [
    "volcano_data.head(2)"
   ]
  },
  {
   "cell_type": "code",
   "execution_count": null,
   "id": "13d1eaf0-b580-4956-adce-b6fbbc0aae87",
   "metadata": {},
   "outputs": [],
   "source": [
    "volcano_data['Significant'] = 'NO'\n",
    "\n",
    "filt = (volcano_data['log2FoldChange'] >= abs_l2fc_threshold) & (volcano_data['minus_log10(padj)'] >= -np.log10(padj_threshold))\n",
    "volcano_data.loc[filt, 'Significant'] = 'UP'\n",
    "\n",
    "filt = (volcano_data['log2FoldChange'] <= -abs_l2fc_threshold) & (volcano_data['minus_log10(padj)'] >= -np.log10(padj_threshold))\n",
    "volcano_data.loc[filt, 'Significant'] = 'DOWN'"
   ]
  },
  {
   "cell_type": "code",
   "execution_count": null,
   "id": "72e78e3d-8668-458f-8db4-e7cc0ca6112c",
   "metadata": {},
   "outputs": [],
   "source": [
    "log2FoldChange_off_scale = 10\n",
    "minus_log10_padj_off_scale = 10\n",
    "\n",
    "volcano_data['Off_scale'] = False\n",
    "\n",
    "filt = volcano_data['log2FoldChange'] > log2FoldChange_off_scale\n",
    "volcano_data.loc[filt, 'log2FoldChange'] = log2FoldChange_off_scale\n",
    "volcano_data.loc[filt, 'Off_scale'] = True\n",
    "\n",
    "filt = volcano_data['log2FoldChange'] < -log2FoldChange_off_scale\n",
    "volcano_data.loc[filt, 'log2FoldChange'] = -log2FoldChange_off_scale\n",
    "volcano_data.loc[filt, 'Off_scale'] = True\n",
    "\n",
    "filt = volcano_data['minus_log10(padj)'] > minus_log10_padj_off_scale\n",
    "volcano_data.loc[filt, 'minus_log10(padj)'] = minus_log10_padj_off_scale\n",
    "volcano_data.loc[filt, 'Off_scale'] = True\n",
    "\n",
    "filt = volcano_data['minus_log10(padj)'] < -minus_log10_padj_off_scale\n",
    "volcano_data.loc[filt, 'minus_log10(padj)'] = -minus_log10_padj_off_scale\n",
    "volcano_data.loc[filt, 'Off_scale'] = True\n",
    "\n",
    "\n",
    "volcano_data = volcano_data.reset_index(drop=True) #The needs doing"
   ]
  },
  {
   "cell_type": "code",
   "execution_count": null,
   "id": "146f9c56-c517-4fa8-ad77-1083abe16961",
   "metadata": {},
   "outputs": [],
   "source": [
    "# Make output directory\n",
    "if not os.path.exists(outdir):\n",
    "    os.makedirs(outdir)"
   ]
  },
  {
   "cell_type": "code",
   "execution_count": null,
   "id": "4217f9f9-4ae8-41dd-868d-9dc469b4f3be",
   "metadata": {},
   "outputs": [],
   "source": [
    "# Make volcano plot with no annotations\n",
    "if volcano_data['Off_scale'].sum() > 0:   # Prevents error\n",
    "    markers = ['o', '*']\n",
    "else:\n",
    "    markers = ['o']\n",
    "\n",
    "\n",
    "colors = [\"black\", \"red\", 'blue']\n",
    "sns.set_palette(sns.color_palette(colors))\n",
    "\n",
    "sns.scatterplot(data=volcano_data, \n",
    "                x=\"log2FoldChange\", \n",
    "                y=\"minus_log10(padj)\", \n",
    "                hue=\"Significant\",\n",
    "                hue_order=['NO', 'UP', 'DOWN'],\n",
    "                style=\"Off_scale\",\n",
    "                markers=markers,\n",
    "                s=7,\n",
    "                edgecolor = None\n",
    "               )\n",
    "plt.legend(bbox_to_anchor=(1.02, 1), loc='upper left', borderaxespad=0)\n",
    "#plt.title(comparison)\n",
    "#plt.axhline(y = -np.log10(padj_threshold), color = 'r', linestyle = '--', lw=0.5) \n",
    "#plt.axvline(x = abs_l2fc_threshold, color = 'r', linestyle = '--', lw=0.5) \n",
    "#plt.axvline(x = -abs_l2fc_threshold, color = 'r', linestyle = '--', lw=0.5) \n",
    "\n",
    "outfile = f'{outdir}/{os.path.basename(deseq_data_file)}.padj{padj_threshold}_abs_l2fc_{abs_l2fc_threshold}_volcano_plot'\n",
    "for image_format in image_formats:\n",
    "    plt.savefig(fname=f'{outfile}.{image_format}', bbox_inches='tight', pad_inches=0.5)\n",
    "#plt.clf()"
   ]
  },
  {
   "cell_type": "code",
   "execution_count": null,
   "id": "bb593cdb-7bc4-4ca2-b650-278be45831ca",
   "metadata": {},
   "outputs": [],
   "source": [
    "# Print the name of the genes with most significant changes\n",
    "volcano_data['volcano_weighting'] = (abs(volcano_data['log2FoldChange'])**2) * volcano_data['minus_log10(padj)']\n",
    "\n",
    "filt = volcano_data['Significant'] == 'NO'   # Only allow singificant genes to be names\n",
    "volcano_data.loc[filt, 'volcano_weighting'] = 0\n",
    "\n",
    "volcano_data['volcano_weighting'] = volcano_data['volcano_weighting'].rank(ascending=False)"
   ]
  },
  {
   "cell_type": "code",
   "execution_count": null,
   "id": "9b1d2fd0-7469-4a95-81c8-46debfb54b6d",
   "metadata": {},
   "outputs": [],
   "source": [
    "# Use the look-up file, if provided\n",
    "if gene_lookup_file is not None:\n",
    "    gene_lookups = gene_lookups.rename(mapper={'gene_id' : 'region', 'gene_name' : 'gene'}, axis=1)\n",
    "    volcano_data = pd.merge(volcano_data, gene_lookups, on='region', how='left')\n",
    "else:\n",
    "    volcano_data = volcano_data.rename(mapper={'region' : 'gene'})\n"
   ]
  },
  {
   "cell_type": "code",
   "execution_count": null,
   "id": "77da4c58-2eeb-4cc2-8c83-ef6ee26d04bd",
   "metadata": {},
   "outputs": [],
   "source": [
    "number_annotations = 35\n",
    "\n",
    "sns.set_style(\"whitegrid\")\n",
    "\n",
    "sns.scatterplot(data=volcano_data, \n",
    "                x=\"log2FoldChange\", \n",
    "                y=\"minus_log10(padj)\", \n",
    "                hue=\"Significant\",\n",
    "                hue_order=['NO', 'UP', 'DOWN'],\n",
    "                style=\"Off_scale\",\n",
    "                markers=markers,\n",
    "                s=7,\n",
    "                edgecolor = None\n",
    "               )\n",
    "for i in range(volcano_data.shape[0]):\n",
    "    if volcano_data.loc[i, 'volcano_weighting'] <= number_annotations:\n",
    "        plt.text(x=volcano_data.loc[i, 'log2FoldChange'] + 0.1,\n",
    "                 y=volcano_data.loc[i, 'minus_log10(padj)'] + 0.1,\n",
    "                 s=volcano_data.loc[i, 'gene'], \n",
    "                 fontsize=6\n",
    "                 #fontdict=dict(color='red',size=10),\n",
    "                 #bbox=dict(facecolor='yellow',alpha=0.5)\n",
    "                )\n",
    "\n",
    "\n",
    "plt.legend(bbox_to_anchor=(1.02, 1), loc='upper left', borderaxespad=0)\n",
    "\n",
    "outfile = f'{outdir}/{os.path.basename(deseq_data_file)}.padj{padj_threshold}_abs_l2fc_{abs_l2fc_threshold}_volcano_plot_annotated'\n",
    "for image_format in image_formats:\n",
    "    plt.savefig(fname=f'{outfile}.{image_format}', bbox_inches='tight', pad_inches=0.5)"
   ]
  },
  {
   "cell_type": "code",
   "execution_count": null,
   "id": "c3bb4875-7384-47e5-81de-605a7d35875f",
   "metadata": {},
   "outputs": [],
   "source": [
    "# Write DE genes to file\n",
    "abs_l2fc_threshold = np.log2(1.5)\n",
    "padj_threshold = 0.05\n",
    "\n",
    "\n",
    "# Make output directory\n",
    "outdir = 'de_genes'\n",
    "if not os.path.exists(outdir):\n",
    "    os.makedirs(outdir)\n",
    "\n",
    "for change in ('UP', 'DOWN'):\n",
    "    outfile = f'{outdir}/{os.path.basename(deseq_data_file)}.{change}_de_genes_padj{padj_threshold}_abs_l2fc_{abs_l2fc_threshold}.txt'\n",
    "    changing_genes = volcano_data.query('Significant == @change')['region']\n",
    "    print(f'{len(changing_genes)} {change} DEGs')\n",
    "    changing_genes.to_csv(outfile, sep='\\t', index=False, header=False)"
   ]
  },
  {
   "cell_type": "code",
   "execution_count": null,
   "id": "bc7f7e3a-b7f7-4e72-afce-a139b8f28fe9",
   "metadata": {},
   "outputs": [],
   "source": [
    "print('Done')"
   ]
  }
 ],
 "metadata": {
  "kernelspec": {
   "display_name": "Python 3 (ipykernel)",
   "language": "python",
   "name": "python3"
  },
  "language_info": {
   "codemirror_mode": {
    "name": "ipython",
    "version": 3
   },
   "file_extension": ".py",
   "mimetype": "text/x-python",
   "name": "python",
   "nbconvert_exporter": "python",
   "pygments_lexer": "ipython3",
   "version": "3.9.13"
  }
 },
 "nbformat": 4,
 "nbformat_minor": 5
}
