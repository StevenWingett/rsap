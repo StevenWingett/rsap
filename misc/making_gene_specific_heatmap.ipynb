{
 "cells": [
  {
   "cell_type": "markdown",
   "id": "020907b9-28df-45a9-883f-1fe458042a9c",
   "metadata": {},
   "source": [
    "Takes an RSAP log2-normalised quantitated matrix and a list of gene names and makes a heatmap of the results"
   ]
  },
  {
   "cell_type": "code",
   "execution_count": null,
   "id": "1b6aa3ca-68cd-4e6c-a718-7d2aa0352ee2",
   "metadata": {},
   "outputs": [],
   "source": [
    "import pandas as pd\n",
    "import numpy as np\n",
    "from matplotlib import pyplot as plt\n",
    "import seaborn as sns\n",
    "import os"
   ]
  },
  {
   "cell_type": "code",
   "execution_count": null,
   "id": "03efd3bf-f7c0-4b04-a6f7-630de0a36b22",
   "metadata": {},
   "outputs": [],
   "source": [
    "# Setup\n",
    "expression_file = '../rsap_results/expression_data_pipeline_format/log2_normalised_expression_data__plus_1_pipeline_format.tsv.gz'\n",
    "genes_of_interest_file = 'genes_of_interest.txt'\n",
    "samples_of_interest_file = 'samples_of_interest.txt'\n",
    "#samples_of_interest_file = None\n",
    "\n",
    "image_formats = ('png', 'svg', 'eps')\n",
    "outdir = 'selected_genes_heatmaps'"
   ]
  },
  {
   "cell_type": "code",
   "execution_count": null,
   "id": "ec08dedf-f666-4697-b273-02e430e964a2",
   "metadata": {},
   "outputs": [],
   "source": [
    "#Read in data \n",
    "print('Reading in expression data: ' + expression_file)\n",
    "expression_data = pd.read_csv(expression_file, sep='\\t')\n",
    "print(f'{expression_data.shape[1] - 2} samples with {expression_data.shape[0]} genes')\n",
    "\n",
    "print('Reading in genes of interest: ' + genes_of_interest_file)\n",
    "genes_of_interest = pd.read_csv(genes_of_interest_file, sep='\\t', header=None)\n",
    "print(f'{len(genes_of_interest)} genes of interest')\n",
    "\n",
    "if samples_of_interest_file is None:\n",
    "    samples_of_interest = expression_data.columns.to_list()[2:]\n",
    "else:   \n",
    "    print('Reading in samples of interest: ' + samples_of_interest_file)\n",
    "    samples_of_interest = pd.read_csv(samples_of_interest_file, sep='\\t', header=None)\n",
    "    samples_of_interest = samples_of_interest[0].to_list()\n",
    "\n",
    "print(f'{len(samples_of_interest)} samples of interest')"
   ]
  },
  {
   "cell_type": "code",
   "execution_count": null,
   "id": "0d0c12b6-f862-4a7b-9db9-b1cbf433331c",
   "metadata": {},
   "outputs": [],
   "source": [
    "# Extract genes of interest\n",
    "filt = expression_data['gene_name'].isin(genes_of_interest[0])\n",
    "expression_data = expression_data[filt]\n",
    "print(f'{expression_data.shape[0]} genes of interest retrieved from the expression matrix')"
   ]
  },
  {
   "cell_type": "code",
   "execution_count": null,
   "id": "6fa722c5-a698-49ee-b57c-fd9d96314695",
   "metadata": {},
   "outputs": [],
   "source": [
    "# Extract samples of interest\n",
    "expression_data = expression_data.loc[:, ['gene_name'] + samples_of_interest]"
   ]
  },
  {
   "cell_type": "code",
   "execution_count": null,
   "id": "dd428c37-51cf-4b61-a9fe-f941a7bfa46d",
   "metadata": {},
   "outputs": [],
   "source": [
    "# Format for heatmap\n",
    "expression_data = expression_data.set_index('gene_name')\n",
    "expression_data.index.name = None\n",
    "columns_order = []\n",
    "\n",
    "if len(columns_order) == 0:\n",
    "    columns_order = expression_data.columns.to_list()\n",
    "\n",
    "expression_data = expression_data.loc[:, columns_order]"
   ]
  },
  {
   "cell_type": "code",
   "execution_count": null,
   "id": "50cf529f-3527-4422-81ad-4ca9bcdbd5ed",
   "metadata": {},
   "outputs": [],
   "source": [
    "# Make output directory\n",
    "if not (os.path.exists(outdir)):\n",
    "    os.mkdir(outdir)"
   ]
  },
  {
   "cell_type": "code",
   "execution_count": null,
   "id": "0d181cb4-feeb-4b36-b94f-ef7b9777810d",
   "metadata": {},
   "outputs": [],
   "source": [
    "# Make heatmap\n",
    "sns.clustermap(data=expression_data,\n",
    "               z_score=0,\n",
    "               col_cluster=False,\n",
    "               row_cluster=False,\n",
    "               xticklabels=True, \n",
    "               yticklabels=True,\n",
    "               center=0,\n",
    "               cmap=\"RdBu_r\"\n",
    "              )\n",
    "\n",
    "outfile = f'{outdir}/{os.path.basename(expression_file)}.selected_genes_heatmap'\n",
    "\n",
    "for image_format in image_formats:\n",
    "    plt.savefig(fname=f'{outfile}.{image_format}', bbox_inches='tight', pad_inches=0.5)\n",
    "#plt.clf()\n",
    "plt.show()"
   ]
  },
  {
   "cell_type": "code",
   "execution_count": null,
   "id": "84bfeb06-9889-4a8a-b328-6d7ee3eec8ab",
   "metadata": {},
   "outputs": [],
   "source": [
    "print('Done')"
   ]
  }
 ],
 "metadata": {
  "kernelspec": {
   "display_name": "Python 3 (ipykernel)",
   "language": "python",
   "name": "python3"
  },
  "language_info": {
   "codemirror_mode": {
    "name": "ipython",
    "version": 3
   },
   "file_extension": ".py",
   "mimetype": "text/x-python",
   "name": "python",
   "nbconvert_exporter": "python",
   "pygments_lexer": "ipython3",
   "version": "3.9.13"
  }
 },
 "nbformat": 4,
 "nbformat_minor": 5
}
