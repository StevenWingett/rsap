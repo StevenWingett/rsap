{
 "cells": [
  {
   "cell_type": "markdown",
   "id": "5f8f7d7f-e5ba-484e-b52f-d0791e6b2839",
   "metadata": {},
   "source": [
    "### Take 2 deseq2 files and plot l2fc vs l2fc"
   ]
  },
  {
   "cell_type": "code",
   "execution_count": null,
   "id": "6211493e-552b-43c9-bbe3-0c1aee17c321",
   "metadata": {},
   "outputs": [],
   "source": [
    "import pandas as pd\n",
    "import numpy as np\n",
    "from matplotlib import pyplot as plt\n",
    "import seaborn as sns\n",
    "import os\n",
    "import math\n",
    "\n",
    "from scipy.cluster.hierarchy import linkage, dendrogram, fcluster\n",
    "from scipy.spatial.distance import squareform\n",
    "\n",
    "import plotly.express as px\n",
    "from sklearn.decomposition import PCA"
   ]
  },
  {
   "cell_type": "code",
   "execution_count": null,
   "id": "fc6682dc-8b06-4679-be40-680fad2444ac",
   "metadata": {},
   "outputs": [],
   "source": [
    "# Setup\n",
    "sns.set_style(\"whitegrid\")\n",
    "\n",
    "abs_l2fc_threshold = np.log2(1.5)\n",
    "padj_threshold = 0.05\n",
    "outdir = 'l2fc_vs_l2fc_plot_results'\n",
    "image_formats = ('png', 'svg', 'eps')\n",
    "\n",
    "gene_lookup_file = '../pipeline_results_stefan_rna_seq/expression_data_pipeline_format/gene_id_gene_name_lookup_table.tsv.gz'\n",
    "\n",
    "deseq_data_file1 = '../pipeline_results_stefan_rna_seq/deseq2/comparison1__COMPETENCE1_Sex__Not_competent_vs_Competent/Comparison_Competent_vs_Not_competent/Comparison_Competent_vs_Not_competent.deseq2_results.tsv'\n",
    "#deseq_data_file = '../pipeline_results_stefan_rna_seq/deseq2/comparison2__COMPETENCE2_Sex__Not_competent_vs_Competent/Comparison_Competent_vs_Not_competent/Comparison_Competent_vs_Not_competent.deseq2_results.tsv'\n",
    "deseq_data_file2 = '../pipeline_results_stefan_rna_seq/deseq2/comparison3__TREATED_Cell_line__Not_treated_vs_Treated/Comparison_Treated_vs_Not_treated/Comparison_Treated_vs_Not_treated.deseq2_results.tsv'"
   ]
  },
  {
   "cell_type": "code",
   "execution_count": null,
   "id": "b603eed5-58d4-41b5-a3f5-724135f4fd06",
   "metadata": {},
   "outputs": [],
   "source": [
    "print(f'Reading in DESeq2 data file1: {deseq_data_file1}')\n",
    "deseq_data1= pd.read_csv(deseq_data_file1, sep='\\t')\n",
    "print(f'{deseq_data1.shape[0]} genes reported')\n",
    "\n",
    "print(f'Reading in DESeq2 data file2: {deseq_data_file2}')\n",
    "deseq_data2 = pd.read_csv(deseq_data_file2, sep='\\t')\n",
    "print(f'{deseq_data2.shape[0]} genes reported')\n",
    "\n",
    "if gene_lookup_file is not None:\n",
    "    print(f'Reading in gene lookups file: {gene_lookup_file}')\n",
    "    gene_lookups = pd.read_csv(gene_lookup_file, sep='\\t')\n",
    "    print(f'{gene_lookups.shape[0]} gene lookups reported')\n"
   ]
  },
  {
   "cell_type": "code",
   "execution_count": null,
   "id": "ff2aa02c-8a32-413c-9344-35a95cc225af",
   "metadata": {},
   "outputs": [],
   "source": [
    "deseq_data1.head(2)"
   ]
  },
  {
   "cell_type": "code",
   "execution_count": null,
   "id": "04ca5836-2b0a-43c6-856d-51b44b04aa33",
   "metadata": {},
   "outputs": [],
   "source": [
    "deseq_data2.head(2)"
   ]
  },
  {
   "cell_type": "code",
   "execution_count": null,
   "id": "f3a3fd8e-22aa-4d0a-a053-25681ca0517a",
   "metadata": {},
   "outputs": [],
   "source": [
    "# Format and merge\n",
    "deseq_data1_columns = deseq_data1.columns.to_series()\n",
    "deseq_data1_columns[1:] = 'comparison1_' + deseq_data1_columns[1:]\n",
    "deseq_data1.columns = deseq_data1_columns\n",
    "\n",
    "deseq_data2_columns = deseq_data2.columns.to_series()\n",
    "deseq_data2_columns[1:] = 'comparison2_' + deseq_data2_columns[1:]\n",
    "deseq_data2.columns = deseq_data2_columns\n",
    "\n",
    "deseq_data_combined = pd.merge(deseq_data1, deseq_data2, on='region', how='inner')\n",
    "deseq_data_combined['comparison1_minus_log10(padj)'] = -np.log10(deseq_data_combined['comparison1_padj'])\n",
    "deseq_data_combined['comparison2_minus_log10(padj)'] = -np.log10(deseq_data_combined['comparison2_padj'])\n",
    "del(deseq_data1, deseq_data2)"
   ]
  },
  {
   "cell_type": "code",
   "execution_count": null,
   "id": "f9e1296e-c678-4d7b-9f55-00775f98e3a3",
   "metadata": {},
   "outputs": [],
   "source": [
    "# Identify DEGs\n",
    "degs1 = (deseq_data_combined\n",
    "        .query('abs(comparison1_log2FoldChange) >= @abs_l2fc_threshold')\n",
    "        .query('comparison1_padj <= @padj_threshold')\n",
    "        .loc[:, 'region']\n",
    "       )\n",
    "    \n",
    "degs2 = (deseq_data_combined\n",
    "        .query('abs(comparison2_log2FoldChange) >= @abs_l2fc_threshold')\n",
    "        .query('comparison2_padj <= @padj_threshold')\n",
    "        .loc[:, 'region']\n",
    "       )\n",
    "\n",
    "degs = pd.concat([degs1, degs2]).drop_duplicates()\n",
    "\n",
    "print(f'{len(degs)} DEGs')\n",
    "\n",
    "del(degs1, degs2)"
   ]
  },
  {
   "cell_type": "code",
   "execution_count": null,
   "id": "faf104a5-92a0-4ebe-b4b2-609270a5388c",
   "metadata": {},
   "outputs": [],
   "source": [
    "# Filter for degs\n",
    "filt = deseq_data_combined['region'].isin(degs)\n",
    "deseq_data_combined = deseq_data_combined[filt]"
   ]
  },
  {
   "cell_type": "code",
   "execution_count": null,
   "id": "d5891892-8c4b-45cd-833c-cd604326012f",
   "metadata": {},
   "outputs": [],
   "source": [
    "# Extract data needed for graph\n",
    "graph_data = deseq_data_combined.loc[:, ['region', 'comparison1_log2FoldChange', 'comparison2_log2FoldChange']]"
   ]
  },
  {
   "cell_type": "code",
   "execution_count": null,
   "id": "c7e39dad-633a-462b-ad05-212c693dfbd8",
   "metadata": {},
   "outputs": [],
   "source": [
    "graph_data.head(2)"
   ]
  },
  {
   "cell_type": "code",
   "execution_count": null,
   "id": "744d335d-7121-4898-a1ef-94d54c270ee2",
   "metadata": {},
   "outputs": [],
   "source": [
    "# Identify consisten changes\n",
    "\n",
    "filt = (graph_data['comparison1_log2FoldChange'] > 0) & (graph_data['comparison2_log2FoldChange'] > 0)\n",
    "graph_data.loc[filt, 'Change'] = 'UP'\n",
    "\n",
    "filt = (graph_data['comparison1_log2FoldChange'] < 0) & (graph_data['comparison2_log2FoldChange'] < 0)\n",
    "graph_data.loc[filt, 'Change'] = 'DOWN'\n",
    "\n",
    "filt = graph_data['Change'].isna()\n",
    "graph_data.loc[filt, 'Change'] = 'NOT_CONSISTENT'"
   ]
  },
  {
   "cell_type": "code",
   "execution_count": null,
   "id": "7529c48d-f964-4d60-a74f-7c01cbaa4ae0",
   "metadata": {},
   "outputs": [],
   "source": [
    "# Identify \n",
    "\n",
    "log2FoldChange_off_scale = 10\n",
    "minus_log10_padj_off_scale = 10\n",
    "\n",
    "graph_data['Off_scale'] = False\n",
    "\n",
    "filt = graph_data['comparison1_log2FoldChange'] > log2FoldChange_off_scale\n",
    "graph_data.loc[filt, 'comparison1_log2FoldChange'] = log2FoldChange_off_scale\n",
    "graph_data.loc[filt, 'Off_scale'] = True\n",
    "\n",
    "filt = graph_data['comparison1_log2FoldChange'] < -log2FoldChange_off_scale\n",
    "graph_data.loc[filt, 'comparison1_log2FoldChange'] = -log2FoldChange_off_scale\n",
    "graph_data.loc[filt, 'Off_scale'] = True\n",
    "\n",
    "filt = graph_data['comparison2_log2FoldChange'] > log2FoldChange_off_scale\n",
    "graph_data.loc[filt, 'comparison2_log2FoldChange'] = log2FoldChange_off_scale\n",
    "graph_data.loc[filt, 'Off_scale'] = True\n",
    "\n",
    "filt = graph_data['comparison2_log2FoldChange'] < -log2FoldChange_off_scale\n",
    "graph_data.loc[filt, 'comparison2_log2FoldChange'] = -log2FoldChange_off_scale\n",
    "graph_data.loc[filt, 'Off_scale'] = True\n",
    "\n",
    "\n",
    "graph_data = graph_data.reset_index(drop=True) #The needs doing"
   ]
  },
  {
   "cell_type": "code",
   "execution_count": null,
   "id": "32a72dd8-de85-44f1-957c-a3080b3b3163",
   "metadata": {},
   "outputs": [],
   "source": [
    "# Make output directory\n",
    "if not os.path.exists(outdir):\n",
    "    os.makedirs(outdir)"
   ]
  },
  {
   "cell_type": "code",
   "execution_count": null,
   "id": "8d8daf0a-79a5-487d-98a4-4aefa9f8f951",
   "metadata": {},
   "outputs": [],
   "source": [
    "if graph_data['Off_scale'].sum() > 0:   # Prevents error\n",
    "    markers = ['o', '*']\n",
    "else:\n",
    "    markers = ['o']\n",
    "\n",
    "\n",
    "colors = [\"blue\", \"red\", 'grey']\n",
    "sns.set_palette(sns.color_palette(colors))\n",
    "\n",
    "sns.scatterplot(data=graph_data, \n",
    "                x=\"comparison1_log2FoldChange\", \n",
    "                y=\"comparison2_log2FoldChange\", \n",
    "                hue=\"Change\",\n",
    "                style=\"Off_scale\",\n",
    "                markers=markers,\n",
    "                s=7,\n",
    "                edgecolor = None\n",
    "               )\n",
    "plt.legend(bbox_to_anchor=(1.02, 1), loc='upper left', borderaxespad=0)\n",
    "\n",
    "\n",
    "plt.xlabel('log2fc(Competent vs not competent)')\n",
    "plt.ylabel('log2fc(Treated vs not treated)')\n",
    "\n",
    "#plt.title(comparison)\n",
    "\n",
    "outfile = f'{outdir}/lfc_vs_lfc_plot'\n",
    "for image_format in image_formats:\n",
    "    plt.savefig(fname=f'{outfile}.{image_format}', bbox_inches='tight', pad_inches=0.5)\n",
    "#plt.clf()"
   ]
  },
  {
   "cell_type": "code",
   "execution_count": null,
   "id": "99988aa5-d15c-404d-9ec5-582777bc3f77",
   "metadata": {},
   "outputs": [],
   "source": [
    "# Add annotations show genes not showing a consistet change"
   ]
  },
  {
   "cell_type": "code",
   "execution_count": null,
   "id": "684d623e-9f93-4090-9871-8101ddc3f45c",
   "metadata": {},
   "outputs": [],
   "source": [
    "# Print the name of the genes with most significant changes\n",
    "#graph_data['graph_weighting'] = (graph_data['comparison1_log2FoldChange']**2) + (graph_data['comparison2_log2FoldChange']**2)\n",
    "\n",
    "graph_data['graph_weighting'] = abs(graph_data['comparison1_log2FoldChange'] - graph_data['comparison2_log2FoldChange'])\n",
    "graph_data['graph_weighting'] = graph_data['graph_weighting'].rank(ascending=False)"
   ]
  },
  {
   "cell_type": "code",
   "execution_count": null,
   "id": "bfb53602-009d-467b-b6f3-5e3357a2df90",
   "metadata": {},
   "outputs": [],
   "source": [
    "# Use the look-up file, if provided\n",
    "if gene_lookup_file is not None:\n",
    "    gene_lookups = gene_lookups.rename(mapper={'gene_id' : 'region', 'gene_name' : 'gene'}, axis=1)\n",
    "    graph_data = pd.merge(graph_data, gene_lookups, on='region', how='left')\n",
    "else:\n",
    "    graph_data = graph_data.rename(mapper={'region' : 'gene'})"
   ]
  },
  {
   "cell_type": "code",
   "execution_count": null,
   "id": "76632613-c84a-40d3-a1be-71d059abaca0",
   "metadata": {},
   "outputs": [],
   "source": [
    "number_annotations = 35\n",
    "\n",
    "if graph_data['Off_scale'].sum() > 0:   # Prevents error\n",
    "    markers = ['o', '*']\n",
    "else:\n",
    "    markers = ['o']\n",
    "\n",
    "\n",
    "colors = [\"blue\", \"red\", 'grey']\n",
    "sns.set_palette(sns.color_palette(colors))\n",
    "\n",
    "sns.scatterplot(data=graph_data, \n",
    "                x=\"comparison1_log2FoldChange\", \n",
    "                y=\"comparison2_log2FoldChange\", \n",
    "                hue=\"Change\",\n",
    "                style=\"Off_scale\",\n",
    "                markers=markers,\n",
    "                s=7,\n",
    "                edgecolor = None\n",
    "               )\n",
    "\n",
    "for i in range(graph_data.shape[0]):\n",
    "    if graph_data.loc[i, 'graph_weighting'] <= number_annotations:\n",
    "        if graph_data.loc[i, 'Change'] == 'NOT_CONSISTENT':\n",
    "            plt.text(x=graph_data.loc[i, 'comparison1_log2FoldChange'] + 0.1,\n",
    "                     y=graph_data.loc[i, 'comparison2_log2FoldChange'] + 0.1,\n",
    "                     s=graph_data.loc[i, 'gene'], \n",
    "                     fontsize=6\n",
    "                     #fontdict=dict(color='red',size=10),\n",
    "                     #bbox=dict(facecolor='yellow',alpha=0.5)\n",
    "                    )\n",
    "\n",
    "\n",
    "plt.legend(bbox_to_anchor=(1.02, 1), loc='upper left', borderaxespad=0)\n",
    "\n",
    "\n",
    "plt.xlabel('log2fc(Competent vs not competent)')\n",
    "plt.ylabel('log2fc(Treated vs not treated)')\n",
    "\n",
    "#plt.title(comparison)\n",
    "\n",
    "outfile = f'{outdir}/lfc_vs_lfc_plot_annotated'\n",
    "for image_format in image_formats:\n",
    "    plt.savefig(fname=f'{outfile}.{image_format}', bbox_inches='tight', pad_inches=0.5)"
   ]
  },
  {
   "cell_type": "code",
   "execution_count": null,
   "id": "bc7f7e3a-b7f7-4e72-afce-a139b8f28fe9",
   "metadata": {},
   "outputs": [],
   "source": [
    "print('Done')"
   ]
  },
  {
   "cell_type": "code",
   "execution_count": null,
   "id": "751e2740-3737-4ec7-95b8-7233aa578547",
   "metadata": {},
   "outputs": [],
   "source": []
  },
  {
   "cell_type": "code",
   "execution_count": null,
   "id": "cb0e1416-0288-4d35-906c-aa97705b36b8",
   "metadata": {},
   "outputs": [],
   "source": []
  },
  {
   "cell_type": "code",
   "execution_count": null,
   "id": "2cbb29f0-cb3d-4bab-9872-d59b2fe8753d",
   "metadata": {},
   "outputs": [],
   "source": []
  },
  {
   "cell_type": "code",
   "execution_count": null,
   "id": "0a9b50e6-e8a6-42c2-9d8a-4e71e6ac07f5",
   "metadata": {},
   "outputs": [],
   "source": [
    "graph_data.query('Change == \"NOT_CONSISTENT\"')"
   ]
  },
  {
   "cell_type": "code",
   "execution_count": null,
   "id": "cb4c2808-81c5-46ea-9d5e-b65f5e5577de",
   "metadata": {},
   "outputs": [],
   "source": []
  }
 ],
 "metadata": {
  "kernelspec": {
   "display_name": "Python 3 (ipykernel)",
   "language": "python",
   "name": "python3"
  },
  "language_info": {
   "codemirror_mode": {
    "name": "ipython",
    "version": 3
   },
   "file_extension": ".py",
   "mimetype": "text/x-python",
   "name": "python",
   "nbconvert_exporter": "python",
   "pygments_lexer": "ipython3",
   "version": "3.9.13"
  }
 },
 "nbformat": 4,
 "nbformat_minor": 5
}
