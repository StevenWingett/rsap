{
 "cells": [
  {
   "cell_type": "code",
   "execution_count": null,
   "id": "0bd89646-8dec-4d12-8ca6-220b46d6681c",
   "metadata": {},
   "outputs": [],
   "source": [
    "import pandas as pd\n",
    "import numpy as np"
   ]
  },
  {
   "cell_type": "code",
   "execution_count": null,
   "id": "249b2c3a-105d-4dfa-80d7-e6d5a3caed48",
   "metadata": {},
   "outputs": [],
   "source": [
    "# Setup\n",
    "\n",
    "\n",
    "abs_l2fc_threshold = np.log2(1.5)\n",
    "padj_threshold = 0.05\n",
    "outdir = 'aaaa'\n",
    "\n",
    "deseq_data_file = '../pipeline_results_stefan_rna_seq/deseq2/comparison1__COMPETENCE1_Sex__Not_competent_vs_Competent/Comparison_Competent_vs_Not_competent/Comparison_Competent_vs_Not_competent.deseq2_results.tsv'"
   ]
  },
  {
   "cell_type": "code",
   "execution_count": null,
   "id": "b073bd47-6d16-4544-aa33-558c71d93295",
   "metadata": {},
   "outputs": [],
   "source": [
    "print(f'Reading in DESeq2 data file: {deseq_data_file}')\n",
    "deseq_data= pd.read_csv(deseq_data_file, sep='\\t')\n",
    "print(f'{deseq_data.shape[0]} genes reported')"
   ]
  },
  {
   "cell_type": "code",
   "execution_count": null,
   "id": "75c54333-5d78-46bd-a4a8-af9291a9d632",
   "metadata": {},
   "outputs": [],
   "source": [
    "deseq_data.head(2)"
   ]
  },
  {
   "cell_type": "code",
   "execution_count": null,
   "id": "981acbfa-0391-453d-9e2f-4d79dc85776b",
   "metadata": {},
   "outputs": [],
   "source": [
    "# Get reference list\n",
    "reference_genes_list = deseq_data['region'].drop_duplicates().to_list()\n",
    "print(f'{len(reference_genes_list)} background reference regulated genes')"
   ]
  },
  {
   "cell_type": "code",
   "execution_count": null,
   "id": "95797023-1566-4fe0-a93f-114004e5a112",
   "metadata": {},
   "outputs": [],
   "source": [
    "#Format\n",
    "deseq_data['minus_log10(padj)'] = -np.log10(deseq_data['padj'])\n",
    "deseq_data = deseq_data.loc[:, ['region', 'log2FoldChange', 'minus_log10(padj)']]"
   ]
  },
  {
   "cell_type": "code",
   "execution_count": null,
   "id": "3b468f7a-69ff-4293-928d-c09ec1885a75",
   "metadata": {},
   "outputs": [],
   "source": [
    "# Remove entries containing NA\n",
    "print(f'{deseq_data.shape[0]} genes BEFORE filter for NA')\n",
    "filt = ~ deseq_data.isna().any(axis=1)\n",
    "deseq_data = deseq_data[filt]\n",
    "print(f'{deseq_data.shape[0]} genes AFTER filtering for NA')"
   ]
  },
  {
   "cell_type": "code",
   "execution_count": null,
   "id": "a6962333-73cd-4e77-ab56-6ba90bd1b93f",
   "metadata": {},
   "outputs": [],
   "source": [
    "# Filter for significant genes\n",
    "deseq_data['Significant'] = 'NO'\n",
    "\n",
    "filt = (deseq_data['log2FoldChange'] >= abs_l2fc_threshold) & (deseq_data['minus_log10(padj)'] >= -np.log10(padj_threshold))\n",
    "\n",
    "up_degs = (deseq_data.loc[filt, 'region']\n",
    "           .drop_duplicates()\n",
    "           .to_list()\n",
    "          )\n",
    "\n",
    "filt = (deseq_data['log2FoldChange'] <= -abs_l2fc_threshold) & (deseq_data['minus_log10(padj)'] >= -np.log10(padj_threshold))\n",
    "\n",
    "\n",
    "down_degs = (deseq_data.loc[filt, 'region']\n",
    "           .drop_duplicates()\n",
    "           .to_list()\n",
    "          )"
   ]
  },
  {
   "cell_type": "code",
   "execution_count": null,
   "id": "cca152b5-5cb1-40b9-b557-ad3c83983594",
   "metadata": {},
   "outputs": [],
   "source": [
    "print(f'{len(up_degs)} UP regulated genes')\n",
    "print(f'{len(down_degs)} DOWN regulated genes')"
   ]
  },
  {
   "cell_type": "code",
   "execution_count": null,
   "id": "315ae3ae-ea6b-47f7-9527-8eb63c0c5183",
   "metadata": {},
   "outputs": [],
   "source": [
    "geneInputList = ','.join(down_degs[0:])\n",
    "refInputList = ','.join(reference_genes_list[0:])"
   ]
  },
  {
   "cell_type": "code",
   "execution_count": null,
   "id": "5832fb36-515d-43c0-9cbc-fc6229600c64",
   "metadata": {},
   "outputs": [],
   "source": [
    "#geneInputList = up_degs[0]\n",
    "#refInputList = down_degs[0]\n"
   ]
  },
  {
   "cell_type": "code",
   "execution_count": null,
   "id": "bc356588-0669-45b9-bfd8-0f806f45788f",
   "metadata": {},
   "outputs": [],
   "source": [
    "import os\n",
    "import json\n",
    "\n",
    "\n",
    "# curl -X POST \"https://pantherdb.org/services/oai/pantherdb/enrich/overrep?geneInputList=Q96PB1&organism=9606&annotDataSet=GO%3A0008150&enrichmentTestType=FISHER&correction=FDR\" -H \"accept: application/json\"\n",
    "\n",
    "# curl -X POST \"https://pantherdb.org/services/oai/pantherdb/enrich/overrep?geneInputList=Q96PB1&organism=9606&annotDataSet=GO%3A0008150&enrichmentTestType=FISHER&correction=FDR\" -H \"accept: application/json\"\n",
    "\n",
    "fdr_threshold = 0.001\n",
    "\n",
    "# Input\n",
    "#geneInputList = 'Q96PB1'\n",
    "organism = '9606'    #Human\n",
    "refInputList  = ''\n",
    "\n",
    "refOrganism = organism \n",
    "organism = f'organism={organism}'\n",
    "refOrganism = f'refOrganism={refOrganism}'    # Set so target and reference gene lists are from the same organism\n",
    "\n",
    "# Make the command\n",
    "curl_command = 'curl -X POST \"https://pantherdb.org/services/oai/pantherdb/enrich/overrep?'\n",
    "\n",
    "\n",
    "geneInputList = f'geneInputList={geneInputList}'\n",
    "\n",
    "if refInputList == '':\n",
    "    command_parameters = '&'.join((geneInputList, organism, ''))  # Add a final & at the end\n",
    "else:\n",
    "    refInputList = f'refInputList={refInputList}'    \n",
    "    command_parameters = '&'.join((geneInputList, organism, refInputList, refOrganism, ''))  # Add a final & at the end\n",
    "\n",
    "\n",
    "# Sets other parameters, including search for Molecular Function GO terms (GO:0008150)\n",
    "remaining_command = 'annotDataSet=GO%3A0008150&enrichmentTestType=FISHER&correction=FDR\" -H \"accept: application/json\"'\n",
    "redirect = ' > pantherdb.json'\n",
    "command = curl_command + command_parameters + remaining_command + redirect\n",
    "\n",
    "print(f'Searching Panther DB with command:\\n{command}')\n",
    "\n",
    "os.system(command)\n",
    "\n",
    "\n",
    "# JSON file\n",
    "with open('pantherdb.json', 'r') as f, open('pantherdb.tsv', 'w') as f_out:\n",
    "\n",
    "    # Reading from file\n",
    "    data = json.loads(f.read())\n",
    "\n",
    "    # Iterating through the json list\n",
    "    header = '\\t'.join(['id', 'label', 'number_in_list', 'fold_enrichment', 'fdr'])\n",
    "    f_out.writelines(header + '\\n')\n",
    "\n",
    "    for record in data['results']['result']:\n",
    "        if record['fdr'] < fdr_threshold:\n",
    "\n",
    "            if 'id' in record['term'].keys():     # Unclassified entries will be missing an id\n",
    "                output_line = '\\t'.join([\n",
    "                    str(record['term']['id']),\n",
    "                    str(record['term']['label']),\n",
    "                    str(record['number_in_list']), \n",
    "                    str(record['fold_enrichment']),\n",
    "                    str(record['fdr'])]\n",
    "                )\n",
    "            \n",
    "                #print(output_line)\n",
    "                f_out.writelines(output_line + '\\n')\n",
    "\n",
    "f.close()\n",
    "f_out.close()\n"
   ]
  },
  {
   "cell_type": "code",
   "execution_count": null,
   "id": "6c268541-07c3-4740-815b-35482db1124d",
   "metadata": {},
   "outputs": [],
   "source": [
    "organism = '9606' \n",
    "\n",
    "\n"
   ]
  },
  {
   "cell_type": "code",
   "execution_count": null,
   "id": "ef59960d-4321-49ea-b554-278bfe6e8fce",
   "metadata": {},
   "outputs": [],
   "source": []
  }
 ],
 "metadata": {
  "kernelspec": {
   "display_name": "Python 3 (ipykernel)",
   "language": "python",
   "name": "python3"
  },
  "language_info": {
   "codemirror_mode": {
    "name": "ipython",
    "version": 3
   },
   "file_extension": ".py",
   "mimetype": "text/x-python",
   "name": "python",
   "nbconvert_exporter": "python",
   "pygments_lexer": "ipython3",
   "version": "3.9.13"
  }
 },
 "nbformat": 4,
 "nbformat_minor": 5
}
