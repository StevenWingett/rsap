{
 "cells": [
  {
   "cell_type": "markdown",
   "id": "9e780707-1fe1-4ae0-a102-16a2ab0a78ee",
   "metadata": {},
   "source": [
    "#### Takes Panther output and creates a barplot showing enrichment and p-values"
   ]
  },
  {
   "cell_type": "code",
   "execution_count": null,
   "id": "4d53cb1d-4020-4d1c-998f-585f91a81515",
   "metadata": {},
   "outputs": [],
   "source": [
    "import pandas as pd\n",
    "import numpy as np\n",
    "import plotly.express as px\n",
    "import matplotlib.pyplot as plt\n",
    "import seaborn as sns\n",
    "import matplotlib\n",
    "import os"
   ]
  },
  {
   "cell_type": "code",
   "execution_count": null,
   "id": "171abfd3-a1f8-4bed-8a32-10f38d76a1d0",
   "metadata": {},
   "outputs": [],
   "source": [
    "# # # # # # # # # # # # # #\n",
    "# Setup\n",
    "\n",
    "# Pather inputfile\n",
    "#panther_file = 'analysis-panther-GOBP-down-in good.txt'\n",
    "panther_file = 'analysis-panther-GOBP-up-in-good.txt'\n",
    "panther_file_lines_to_skip = 8\n",
    "\n",
    "\n",
    "# GO terms to select file\n",
    "#selected_go_terms_file = 'go_terms_to_select.txt'\n",
    "selected_go_terms_file = 'go_terms_to_select_magda.txt'\n",
    "\n",
    "# Colour scheme\n",
    "my_palette = sns.blend_palette(['blue', 'red'], as_cmap=True)\n",
    "fdr_color_min = 1\n",
    "fdr_color_max = 15\n",
    "\n",
    "\n",
    "# Sort graph columns\n",
    "graph_sort_category = 'minus_log10_FDR'\n",
    "#graph_sort_category = 'Enrichment'\n",
    "\n",
    "sort_low_to_high = False\n",
    "#sort_low_to_high = True\n",
    "\n",
    "\n",
    "# Output directory\n",
    "outdir = './enrichment_plots'"
   ]
  },
  {
   "cell_type": "code",
   "execution_count": null,
   "id": "c3be3ade-041f-4975-a576-0b73077657f2",
   "metadata": {},
   "outputs": [],
   "source": [
    "# Import data\n",
    "print(f'Importing Panther file {panther_file}')\n",
    "panther_data = pd.read_csv(panther_file, sep='\\t', skiprows=panther_file_lines_to_skip)\n",
    "\n",
    "print(f'Importing GO term to select file {selected_go_terms_file}')\n",
    "selected_go_terms = pd.read_csv(selected_go_terms_file, header=None)\n",
    "selected_go_terms = selected_go_terms.iloc[:, 0].tolist()"
   ]
  },
  {
   "cell_type": "code",
   "execution_count": null,
   "id": "544ca57a-d4af-43e4-8303-eb0dd062c5ac",
   "metadata": {},
   "outputs": [],
   "source": [
    "panther_data.head(2)"
   ]
  },
  {
   "cell_type": "code",
   "execution_count": null,
   "id": "fc13846d-f28a-4c77-848e-4f3b6cdd2d6a",
   "metadata": {},
   "outputs": [],
   "source": [
    "selected_go_terms"
   ]
  },
  {
   "cell_type": "code",
   "execution_count": null,
   "id": "8ddb6f6e-dea0-42fd-b059-7ea4af727fa6",
   "metadata": {},
   "outputs": [],
   "source": [
    "# Format\n",
    "panther_data = panther_data.iloc[:, [0, -3, -1]]\n",
    "panther_data.columns = ['GO', 'Enrichment', 'minus_log10_FDR']\n",
    "\n",
    "panther_data.loc[:, 'GO'] = panther_data.loc[:, 'GO'].str.split(' \\(', expand=True)[0].copy()  # Remove GO term ID\n",
    "\n",
    "filt = panther_data['GO'].isin(selected_go_terms)   # Filter for GO terms of interest\n",
    "panther_data = panther_data[filt]\n",
    "\n",
    "\n",
    "# Filter out enrichment values which are '< 0.01'\n",
    "filt = panther_data['Enrichment'] != '< 0.01'\n",
    "panther_data = panther_data[filt]\n",
    "panther_data.loc[:, ['Enrichment', 'minus_log10_FDR']] = panther_data.loc[:, ['Enrichment', 'minus_log10_FDR']].astype(float)\n",
    "\n",
    "panther_data['minus_log10_FDR'] = -np.log10(panther_data['minus_log10_FDR'])\n",
    "panther_data = panther_data.sort_values(graph_sort_category, ascending=sort_low_to_high)"
   ]
  },
  {
   "cell_type": "code",
   "execution_count": null,
   "id": "349c70b0-1c5b-46c6-baf5-61224a91b04c",
   "metadata": {},
   "outputs": [],
   "source": [
    "# Create an output directory\n",
    "if not os.path.isdir(outdir):\n",
    "    os.mkdir(outdir)\n",
    "    \n",
    "outfile = panther_file.split('/')[-1]\n",
    "outfile = f'{outdir}/{outfile}.enrichment_barplot'"
   ]
  },
  {
   "cell_type": "code",
   "execution_count": null,
   "id": "46f018c0-c3a2-45ef-92cd-9967c5748468",
   "metadata": {},
   "outputs": [],
   "source": [
    "# Create a custom palette to match the data\n",
    "panther_data = panther_data.reset_index(drop=True)  # DO THIS to ENSURE index ID matches loop count !\n",
    "\n",
    "norm = plt.Normalize(fdr_color_min, fdr_color_max)\n",
    "sm = plt.cm.ScalarMappable(cmap=my_palette, norm=norm)\n",
    "\n",
    "custom_palette_lookup = {}\n",
    "for i in range(0, panther_data.shape[0]):\n",
    "    my_value = panther_data.loc[i, 'minus_log10_FDR']\n",
    "    #scaled_value = (my_value - fdr_color_min) / (fdr_color_max - fdr_color_min)\n",
    "    scaled_value = norm(my_value)\n",
    "    custom_palette_lookup[i] =  my_palette(scaled_value)"
   ]
  },
  {
   "cell_type": "code",
   "execution_count": null,
   "id": "9fa87e99-736a-4ff1-b52c-9b366a6b1d0a",
   "metadata": {},
   "outputs": [],
   "source": [
    "# Plot graph\n",
    "sns.set_style(\"whitegrid\")\n",
    "ax = sns.barplot(data=panther_data, \n",
    "            y='GO', \n",
    "            x='Enrichment',\n",
    "            hue=panther_data.index,\n",
    "            palette=custom_palette_lookup,\n",
    "            dodge=False\n",
    "           )\n",
    "\n",
    "#ax.set_ylabel('GO Term')\n",
    "ax.get_legend().remove()\n",
    "cb = ax.figure.colorbar(sm, ax=ax)\n",
    "ax.set_ylabel(None)\n",
    "ax.set_xlabel('Fold Enrichment')\n",
    "\n",
    "cb.ax.set_title('-log10(FDR)')\n",
    "\n",
    "# Write out file\n",
    "plt.savefig(fname=f'{outfile}.svg', bbox_inches='tight', pad_inches=0.5)\n",
    "plt.savefig(fname=f'{outfile}.png', bbox_inches='tight', pad_inches=0.5, dpi=1200)\n",
    "plt.savefig(fname=f'{outfile}.eps', bbox_inches='tight', pad_inches=0.5, dpi=1200)\n",
    "\n",
    "plt.show()"
   ]
  },
  {
   "cell_type": "code",
   "execution_count": null,
   "id": "fcadfd33-0d02-4221-b5ea-fc7ee5e9b57e",
   "metadata": {},
   "outputs": [],
   "source": [
    "print('Done')"
   ]
  },
  {
   "cell_type": "code",
   "execution_count": null,
   "id": "99b06f60-de59-49ce-b5de-460f6a8e283e",
   "metadata": {},
   "outputs": [],
   "source": []
  }
 ],
 "metadata": {
  "kernelspec": {
   "display_name": "Python 3 (ipykernel)",
   "language": "python",
   "name": "python3"
  },
  "language_info": {
   "codemirror_mode": {
    "name": "ipython",
    "version": 3
   },
   "file_extension": ".py",
   "mimetype": "text/x-python",
   "name": "python",
   "nbconvert_exporter": "python",
   "pygments_lexer": "ipython3",
   "version": "3.9.13"
  }
 },
 "nbformat": 4,
 "nbformat_minor": 5
}
